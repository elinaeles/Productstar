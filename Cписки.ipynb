{
 "cells": [
  {
   "cell_type": "code",
   "execution_count": null,
   "metadata": {},
   "outputs": [],
   "source": [
    "list_from_string = list('string example')\n",
    "students = ['Егор', 'Иван' , 'Вадим']\n",
    "\n",
    "# Полезные функции и методы списка \n",
    "# Чтобы узнать длину списка, можно использовать функцию len()\n",
    "print(len(students))\n",
    "print(students)\n",
    "print(students[-1])\n",
    "print(len(students)-1)\n",
    "print(students[len(students)-1])\n",
    "\n",
    "\n",
    "print(f'В списке list_from_string {len(list_from_string)} элементов')\n",
    "\n",
    "# Сортировка выполняется методом sorted(): \n",
    "sorted(list_from_string)\n",
    "\n",
    "# Cортировка в обратном порядке \n",
    "sorted(list_from_string, reverse = True)"
   ]
  },
  {
   "cell_type": "code",
   "execution_count": null,
   "metadata": {},
   "outputs": [],
   "source": [
    "# Cтандартные операции для списка \n",
    "# Операция а + b соединяет списки a и b\n",
    "# Операция b*3 повторяет список b 3 раза \n",
    "\n",
    "a = [1,2,3]\n",
    "b = [4,5] \n",
    "\n",
    "c = a + b \n",
    "print(c)\n",
    "\n",
    "d = b*3\n",
    "print(d)\n",
    "\n",
    "# Операция перемножения списков a*b не определена "
   ]
  },
  {
   "cell_type": "code",
   "execution_count": null,
   "metadata": {},
   "outputs": [],
   "source": [
    "# встроенные методы списков \n",
    "\n",
    "# добавляет элемент в конец списка\n",
    "list.append(x)\n",
    "\n",
    "# расширяет список list, добавляя в конец все элементы списка L \n",
    "list.extend(L)\n",
    "\n",
    "# вставляет на i-ый элемент значение x\n",
    "list.insert(i, x)\n",
    "\n",
    "# удаляет первый элемент в списке, имеющий значение х. ValueError, если такого элемента не существует \n",
    "list.remove(x)\n",
    "\n",
    "# удаляет i-ый элемент и возвращает его. Если индекс не указан, то возвращается и удаляется последний элемент \n",
    "list.pop([i])\n",
    "\n",
    "# возрвращает положение первого элемента со значением х. При этом поиск ведется от start до end \n",
    "list.index(x, [start , [end]])\n",
    "\n",
    "# возвращает количество элементов со значением x \n",
    "list.count(x)\n",
    "\n",
    "# cортирует список на основе функции \n",
    "list.sort([key == функция])\n",
    "\n",
    "# разворачивает список \n",
    "list.reverse()\n",
    "\n",
    "# поверхностная копия списка \n",
    "list.copy()\n",
    "\n",
    "# очищает список \n",
    "list.clear()\n",
    "\n",
    "\n",
    "# Как работает метод copy()\n",
    "\n",
    "old_list = ['hop', 'hey', 'lalaley']\n",
    "new_list = old_list.copy()\n",
    "\n",
    "old_list.pop()\n",
    "print(old_list)\n",
    "print(new_list) # new list не поменялся \n",
    "\n",
    "\n",
    "old_list = ['hop', 'hey', 'lalaley']\n",
    "new_list = old_list \n",
    "\n",
    "old_list.pop()\n",
    "print(old_list)\n",
    "print(new_list) # new list тоже поменялся \n"
   ]
  },
  {
   "cell_type": "code",
   "execution_count": null,
   "metadata": {},
   "outputs": [],
   "source": [
    "# Как работакт метод sort()\n",
    "\n",
    "list_to_sort = list('abllfddglto')\n",
    "print(list_to_sort)\n",
    "\n",
    "list_to_sort.sort()\n",
    "print(list_to_sort)\n",
    "\n",
    "list_to_sort.sort(reverse = True)\n",
    "print(list_to_sort)\n",
    "\n",
    "\n",
    "# в отличие от функции sorted(), которая тоже сортирует список, метод .sort() меняет исходный список \n",
    "\n",
    "list_to_sort = list('aaiqigivfd')\n",
    "print(sorted(list_to_sort))\n",
    "print(list_to_sort) # исходный list_to_sort остался без изменений"
   ]
  },
  {
   "cell_type": "code",
   "execution_count": null,
   "metadata": {},
   "outputs": [],
   "source": [
    "# Как сделать список из range (позволяет быстро сгенерировать список из последовательных чисел)\n",
    "\n",
    "list_from_range = list(range(1,10,2))\n",
    "print(list_from_range)"
   ]
  },
  {
   "cell_type": "code",
   "execution_count": null,
   "metadata": {},
   "outputs": [],
   "source": [
    "# цикл for для списков в Питоне. В отличие от других языков, в Питоне можно перебирать именно сами элементы некоторой последовательности, а не их индексы.\n",
    "\n",
    "# например, чтобы вывести список без квадратных скобок, нужно сделать так: \n",
    "list_example = ['i', 'am', 'new', 'to', 'Phyton', 'lists']\n",
    "print(list_example)\n",
    "\n",
    "for elem in list_example:\n",
    "    print(elem, end=' ')\n",
    "\n",
    "# можно обращаться к элементам в списке по индексам: \n",
    "for i in range(len(list_example)): \n",
    "    print(list_example[i], end=' ') "
   ]
  },
  {
   "cell_type": "code",
   "execution_count": null,
   "metadata": {},
   "outputs": [],
   "source": [
    "# Методы split & join \n",
    "# В Питоне есть очень удобные методы для разделения строк в список и создания строк из списков. Для начала посмотрим на работу функции input()\n",
    "\n",
    "input_string = input()\n",
    "print(input_string)\n",
    "print(type(input_string))\n",
    "\n",
    "# для разделения строки на числа используем метод .split()\n",
    "input_list = input_string.split()\n",
    "print(input_list)\n",
    "\n",
    "# Обратите внимание, что это список строк. Чтобы дальше преобразовать список в список из чисел, нужно воспользоваться известными функциями: \n",
    "for i in range(input_list): \n",
    "    input_list[i] = int(input_list[i])\n",
    "print(input_list)"
   ]
  },
  {
   "cell_type": "code",
   "execution_count": null,
   "metadata": {},
   "outputs": [],
   "source": [
    "# иногда бывает нужно разделить строку по произвольному элементу, например, по запятой: \n",
    "s = 'Product,Star,course,is,cool'\n",
    "s_split = s.split(',')\n",
    "print(s_split)\n",
    "# по умолчанию разделитель в функции split это пробел \n",
    "\n",
    "# теперь можно обьединить список по любому другому элементу, например, расставить пробелы:\n",
    "' '.join(s_split)"
   ]
  },
  {
   "cell_type": "code",
   "execution_count": null,
   "metadata": {},
   "outputs": [],
   "source": [
    " # Рассмотрим задачу: создать список квадратов чисел от 0 до 9. Известный способ: \n",
    "squares = []\n",
    "for i in range(10): \n",
    "    squares.append(i * i)\n",
    "print(squares)\n",
    "\n",
    "# Для создания списков, заполненных по более сложным формулам, можно использовать генераторы: выражения, позволяющие заполнить список некоторой формулой.\n",
    "# Общий вид генератора следующий: \n",
    "# [ выражение for переменная in последовательность]\n",
    "# где переменная - идентификатор некоторой переменной, последовательность - последовательность некоторых значений, которую принимает данная переменная\n",
    "# это может быть список, строка или объект, полученных при помощи функции range), выражение - некоторое выражение, как правило, зависящее от использованной в генераторе переменной, которым будут заполнены элементы списка \n",
    "# можно комбинировать списковые выражения и условные конструкции: \n",
    "# [ выражение for переменная in последовательность (if условие)]\n",
    "\n",
    "squares_new_method = [i*i for i in range(10)]\n",
    "print(squares_new_method)\n",
    "\n",
    "# например, мы хотим узнать сумму квадратов только четных чисел из списка: \n",
    "given_list = [1, 2, 32, 4, 11, 18, 9, 20, 31]\n",
    "[i**2 for i in given_list if i % 2 == 0]\n"
   ]
  }
 ],
 "metadata": {
  "kernelspec": {
   "display_name": "Python 3.11.0 64-bit",
   "language": "python",
   "name": "python3"
  },
  "language_info": {
   "codemirror_mode": {
    "name": "ipython",
    "version": 3
   },
   "file_extension": ".py",
   "mimetype": "text/x-python",
   "name": "python",
   "nbconvert_exporter": "python",
   "pygments_lexer": "ipython3",
   "version": "3.11.0"
  },
  "orig_nbformat": 4,
  "vscode": {
   "interpreter": {
    "hash": "aee8b7b246df8f9039afb4144a1f6fd8d2ca17a180786b69acc140d282b71a49"
   }
  }
 },
 "nbformat": 4,
 "nbformat_minor": 2
}
