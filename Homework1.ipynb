{
 "cells": [
  {
   "cell_type": "code",
   "execution_count": null,
   "metadata": {},
   "outputs": [],
   "source": [
    "# Задание 1.1 Создайте список из 10 последовательных натуральных чисел, начиная с числа 5. \n",
    "\n",
    "list_integer = [i+1 for i in range(4,14)]\n",
    "print(list_integer) # 1.1\n",
    "\n",
    "new_list_integer = []\n",
    "for i in range(len(list_integer)):\n",
    "    if i%2 == 0 :\n",
    "      new_list_integer.append(list_integer[i])\n",
    "print(new_list_integer) # 1.2\n",
    "\n",
    "c = 1\n",
    "b = 0\n",
    "for i in range(len(new_list_integer)):\n",
    "    c *= new_list_integer[i]\n",
    "    b += new_list_integer[i]\n",
    "print(c) # 1.3\n",
    "print(b) # 1.4\n",
    "new_list_integer.append(c)\n",
    "new_list_integer.append(b)\n",
    "new_list_integer.sort(reverse = True)\n",
    "print(new_list_integer) # 1.5\n",
    "\n",
    "for i in range(len(new_list_integer)):\n",
    "    new_list_integer[i] = str(new_list_integer[i])\n",
    "print(new_list_integer) # 1.6\n",
    "\n",
    "print('='.join(new_list_integer)) # 1.7"
   ]
  },
  {
   "cell_type": "code",
   "execution_count": null,
   "metadata": {},
   "outputs": [],
   "source": [
    "list_a = [1, 1, 2, 3, 5, 8, 13, 21, 34, 55, 89, 5, 9, -7, -10]\n",
    "for elem in list_a: \n",
    "    if elem < 5: \n",
    "        print(elem, end=', ') # 2"
   ]
  },
  {
   "cell_type": "code",
   "execution_count": null,
   "metadata": {},
   "outputs": [],
   "source": [
    "list_a = [1, 1, 2, 3, 5, 8, 13, 21, 34, 55, 89, 11]\n",
    "list_b = [1, 2, 3, 4, 5, 6, 7, 8, 9, 10, 34, 11, 12, 13]\n",
    "list_c = []\n",
    "\n",
    "for elem in list_a: \n",
    "    if elem in list_b: \n",
    "        list_c.append(elem)\n",
    "\n",
    "list_c.sort()\n",
    "print(list_c)\n",
    "\n",
    "list_d = []\n",
    "for elem in list_c: \n",
    "    if elem not in list_d:\n",
    "        list_d.append(elem)\n",
    "\n",
    "print(list_d) # 3"
   ]
  },
  {
   "cell_type": "code",
   "execution_count": null,
   "metadata": {},
   "outputs": [],
   "source": [
    "s = 'kafka python course stack flow dict list python stack course star product star product analytics flow star kafka stack flow ython list set ist fit predict dict list python ourse ython ourse star product ist fit predict analytics kafka stack flow product ist fit predict analytics star flow dict flow list python course stack flow dict list python stack course'\n",
    "s_list = s.split()\n",
    "\n",
    "max = 0\n",
    "count = 0\n",
    "word = ''\n",
    "\n",
    "for elem in s_list: \n",
    "    for i in s_list: \n",
    "        if elem == i:\n",
    "           count +=1 \n",
    "           print(elem)\n",
    "        if count >= max:\n",
    "                max = count\n",
    "                word = elem\n",
    "                \n",
    "    count = 0 \n",
    "print(word) # 4"
   ]
  },
  {
   "cell_type": "code",
   "execution_count": null,
   "metadata": {},
   "outputs": [],
   "source": [
    "names = ['igor', 'dasha', 'martin', 'vladimir', 'rishat', 'maria', 'marat', 'petr', 'dima', 'polina', 'katya', 'elena']\n",
    "occupations = ['smm', 'developer', 'analyst', 'president', 'analyst', 'ceo', 'customer development', 'founder', 'developer', 'ml engineer', 'product manager', 'cmo']\n",
    "\n",
    "dict_job = {}\n",
    "for i in range(len(names)): \n",
    "    dict_job[names[i]] = occupations[i]\n",
    "print(dict_job)\n",
    "print(dict_job['maria']) # 5"
   ]
  },
  {
   "cell_type": "code",
   "execution_count": null,
   "metadata": {},
   "outputs": [],
   "source": [
    "dict1={1:10, 2:20, 3901:11, 384:13, 8489:1, 48:10}\n",
    "dict2={3:30, 4:40, 93:12, 91:41, 95:1, 841:11, 584:11}\n",
    "dict3={5:50, 6:60, 9:90, 3:13, 7:11}\n",
    "\n",
    "dict={**dict1, **dict2, **dict3}\n",
    "print(len(dict)) #6\n",
    "\n",
    "list_a = []\n",
    "for key in dict:\n",
    "    list_a.append(dict[key])\n",
    "\n",
    "\n",
    "max = 0\n",
    "count = 0\n",
    "word = ''\n",
    "\n",
    "for elem in list_a: \n",
    "    for i in list_a: \n",
    "        if elem == i:\n",
    "           count +=1 \n",
    "           \n",
    "        if count >= max:\n",
    "                max = count\n",
    "                word = elem\n",
    "                \n",
    "    count = 0 \n",
    "\n",
    "print(word) #6"
   ]
  },
  {
   "cell_type": "code",
   "execution_count": null,
   "metadata": {},
   "outputs": [],
   "source": [
    "given_string = 'Python Star Course for beginners and experts for data science and analytics without sql with code'.lower()\n",
    "\n",
    "list_let = list(given_string)\n",
    "dict_let = {}\n",
    "\n",
    "for i in list_let: \n",
    "    if i not in dict_let:\n",
    "        dict_let[i] = list_let.count(i)\n",
    "        if list_let.count(i) < 2: \n",
    "            print(i) # 7\n",
    "        \n",
    "\n",
    "for key,value in dict_let.items(): \n",
    "    print(key,value, sep = ':')\n",
    "\n",
    "# i its a key - letter \n",
    "# dict[i] its a number "
   ]
  }
 ],
 "metadata": {
  "kernelspec": {
   "display_name": "Python 3.11.0 64-bit",
   "language": "python",
   "name": "python3"
  },
  "language_info": {
   "name": "python",
   "version": "3.11.0"
  },
  "orig_nbformat": 4,
  "vscode": {
   "interpreter": {
    "hash": "aee8b7b246df8f9039afb4144a1f6fd8d2ca17a180786b69acc140d282b71a49"
   }
  }
 },
 "nbformat": 4,
 "nbformat_minor": 2
}
